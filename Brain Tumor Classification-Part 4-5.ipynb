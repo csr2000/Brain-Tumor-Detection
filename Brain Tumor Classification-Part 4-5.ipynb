{
 "cells": [
  {
   "cell_type": "markdown",
   "id": "157d7886",
   "metadata": {},
   "source": [
    "# PART 4 CONVOLUTIONAL NEURAL NETWORKS "
   ]
  },
  {
   "cell_type": "markdown",
   "id": "bec5b8db",
   "metadata": {},
   "source": [
    "### Convolutional Neural Network\n",
    "\n",
    "For a image dataset, especially computer vision problems it is best to go for Convolutional networks."
   ]
  },
  {
   "cell_type": "code",
   "execution_count": 1,
   "id": "45dfccee",
   "metadata": {},
   "outputs": [],
   "source": [
    "import numpy as np\n",
    "import pandas as pd\n",
    "import matplotlib.pyplot as plt\n",
    "import glob\n",
    "import os \n",
    "import shutil\n",
    "import math\n",
    "import cv2\n",
    "# to ignore the warnings \n",
    "import warnings\n",
    "warnings.filterwarnings(\"ignore\")"
   ]
  },
  {
   "cell_type": "code",
   "execution_count": 2,
   "id": "ca5abadc",
   "metadata": {},
   "outputs": [
    {
     "data": {
      "text/plain": [
       "{'Brain Tumor': 2513, 'Healthy': 2087}"
      ]
     },
     "execution_count": 2,
     "metadata": {},
     "output_type": "execute_result"
    }
   ],
   "source": [
    "#Number of images\n",
    "image_directory='Brain Tumor\\\\Brain Tumor Data Set\\\\Brain Tumor Data Set'\n",
    "Categories={}\n",
    "\n",
    "#Iterating through all the examples of brain tumor and healthy brain to check the number of images\n",
    "for dir in os.listdir(image_directory):\n",
    "    Categories[dir]=len(os.listdir(os.path.join(image_directory,dir)))\n",
    "\n",
    "Categories"
   ]
  },
  {
   "cell_type": "markdown",
   "id": "d2f6574a",
   "metadata": {},
   "source": [
    "The data is split into 70% training, 15% validation and 15% testing data. \n",
    "\n",
    "The train folder consists of 1754 tumor brain images and 1455 healthy brain images\n",
    "\n",
    "The validation folder consists of 371 tumor brain images and 308 healthy brain images\n",
    "\n",
    "The test folder consists of 371 tumor brain images and 308 healthy brain images\n"
   ]
  },
  {
   "cell_type": "code",
   "execution_count": 3,
   "id": "9ab091e6",
   "metadata": {},
   "outputs": [],
   "source": [
    "# we create a training folder \n",
    "\n",
    "if not os.path.exists(\"./train\"):\n",
    "  os.mkdir(\"./train\")\n",
    "\n",
    "  for dir in os.listdir(image_directory):\n",
    "    os.makedirs(\"./train/\"+dir)\n",
    "    for img in np.random.choice(a=os.listdir(os.path.join(image_directory, dir) ) , \n",
    "                                size= (math.floor(70/100*Categories[dir])-5) , replace=False ):\n",
    "      \n",
    "      O = os.path.join(image_directory,dir,img)\n",
    "      D = os.path.join('./train', dir)\n",
    "      shutil.copy(O,D)\n",
    "      os.remove(O)\n",
    "else:\n",
    "  print(\"Train Folder exists\")"
   ]
  },
  {
   "cell_type": "code",
   "execution_count": 4,
   "id": "0c83afdc",
   "metadata": {},
   "outputs": [],
   "source": [
    "# we create a Validation folder \n",
    "\n",
    "if not os.path.exists(\"./val\"):\n",
    "  os.mkdir(\"./val\")\n",
    "\n",
    "  for dir in os.listdir(image_directory):\n",
    "    os.makedirs(\"./val/\"+dir)\n",
    "    for img in np.random.choice(a=os.listdir(os.path.join(image_directory, dir) ) , \n",
    "                                size= (math.floor(15/100*Categories[dir])-5) , replace=False ):\n",
    "      \n",
    "      O = os.path.join(image_directory,dir,img)\n",
    "      D = os.path.join('./val', dir)\n",
    "      shutil.copy(O,D)\n",
    "      os.remove(O)\n",
    "else:\n",
    "  print(\"Train Folder exsist\")"
   ]
  },
  {
   "cell_type": "code",
   "execution_count": 5,
   "id": "73f67b79",
   "metadata": {},
   "outputs": [],
   "source": [
    "# we create a test folder \n",
    "\n",
    "if not os.path.exists(\"./test\"):\n",
    "  os.mkdir(\"./test\")\n",
    "\n",
    "  for dir in os.listdir(image_directory):\n",
    "    os.makedirs(\"./test/\"+dir)\n",
    "    for img in np.random.choice(a=os.listdir(os.path.join(image_directory, dir) ) , \n",
    "                                size= (math.floor(15/100*Categories[dir])-5) , replace=False ):\n",
    "      \n",
    "      O = os.path.join(image_directory,dir,img)\n",
    "      D = os.path.join('./test', dir)\n",
    "      shutil.copy(O,D)\n",
    "      os.remove(O)\n",
    "else:\n",
    "  print(\"Train Folder exsist\")"
   ]
  },
  {
   "cell_type": "code",
   "execution_count": 6,
   "id": "88d8def6",
   "metadata": {},
   "outputs": [],
   "source": [
    "import numpy as np\n",
    "import matplotlib.pyplot as plt\n",
    "from keras.layers import Dense,Conv2D, Flatten, MaxPool2D, Dropout, BatchNormalization, MaxPooling2D, GlobalAvgPool2D\n",
    "from keras.models import Sequential\n",
    "from keras.preprocessing import image\n",
    "import keras"
   ]
  },
  {
   "cell_type": "code",
   "execution_count": 7,
   "id": "57cee2f9",
   "metadata": {},
   "outputs": [
    {
     "name": "stdout",
     "output_type": "stream",
     "text": [
      "Model: \"sequential\"\n",
      "_________________________________________________________________\n",
      "Layer (type)                 Output Shape              Param #   \n",
      "=================================================================\n",
      "conv2d (Conv2D)              (None, 222, 222, 16)      448       \n",
      "_________________________________________________________________\n",
      "conv2d_1 (Conv2D)            (None, 220, 220, 32)      4640      \n",
      "_________________________________________________________________\n",
      "max_pooling2d (MaxPooling2D) (None, 110, 110, 32)      0         \n",
      "_________________________________________________________________\n",
      "conv2d_2 (Conv2D)            (None, 108, 108, 64)      18496     \n",
      "_________________________________________________________________\n",
      "max_pooling2d_1 (MaxPooling2 (None, 54, 54, 64)        0         \n",
      "_________________________________________________________________\n",
      "conv2d_3 (Conv2D)            (None, 52, 52, 128)       73856     \n",
      "_________________________________________________________________\n",
      "max_pooling2d_2 (MaxPooling2 (None, 26, 26, 128)       0         \n",
      "_________________________________________________________________\n",
      "dropout (Dropout)            (None, 26, 26, 128)       0         \n",
      "_________________________________________________________________\n",
      "flatten (Flatten)            (None, 86528)             0         \n",
      "_________________________________________________________________\n",
      "dense (Dense)                (None, 64)                5537856   \n",
      "_________________________________________________________________\n",
      "dropout_1 (Dropout)          (None, 64)                0         \n",
      "_________________________________________________________________\n",
      "dense_1 (Dense)              (None, 1)                 65        \n",
      "=================================================================\n",
      "Total params: 5,635,361\n",
      "Trainable params: 5,635,361\n",
      "Non-trainable params: 0\n",
      "_________________________________________________________________\n"
     ]
    }
   ],
   "source": [
    "#Live lecture\n",
    "model = Sequential() \n",
    "model.add(Conv2D(filters=16, kernel_size= (3,3), activation= 'relu', input_shape=(224,224,3)) )\n",
    "\n",
    "model.add(Conv2D(filters=32, kernel_size=(3,3), activation='relu' ))\n",
    "model.add(MaxPool2D(pool_size=(2,2)))\n",
    "\n",
    "\n",
    "model.add(Conv2D(filters=64, kernel_size=(3,3), activation='relu' ))\n",
    "model.add(MaxPool2D(pool_size=(2,2)))\n",
    "\n",
    "\n",
    "model.add(Conv2D(filters=128, kernel_size=(3,3), activation='relu' ))\n",
    "model.add(MaxPool2D(pool_size=(2,2)))\n",
    "\n",
    "model.add(Dropout(rate=0.25))\n",
    "\n",
    "model.add(Flatten())\n",
    "model.add(Dense(units=64, activation='relu'))\n",
    "model.add(Dropout(rate=0.25))\n",
    "model.add(Dense(units=1, activation='sigmoid'))\n",
    "\n",
    "model.compile(loss= keras.losses.binary_crossentropy, optimizer='adam', metrics=['accuracy'] )\n",
    " \n",
    "model.summary()"
   ]
  },
  {
   "cell_type": "code",
   "execution_count": 8,
   "id": "9e709963",
   "metadata": {},
   "outputs": [],
   "source": [
    "model.compile(optimizer='adam', loss='binary_crossentropy', metrics=['accuracy']  )"
   ]
  },
  {
   "cell_type": "code",
   "execution_count": 9,
   "id": "3f8febfd",
   "metadata": {},
   "outputs": [],
   "source": [
    "train_datagen = image.ImageDataGenerator(zoom_range = 0.2, shear_range = 0.2 , rescale = 1./255 , horizontal_flip=True)\n",
    "\n",
    "val_datagen = image.ImageDataGenerator(rescale = 1./255)\n",
    "\n",
    "test_datagen = image.ImageDataGenerator(rescale = 1./255)"
   ]
  },
  {
   "cell_type": "code",
   "execution_count": 10,
   "id": "d6dda6ec",
   "metadata": {},
   "outputs": [
    {
     "name": "stdout",
     "output_type": "stream",
     "text": [
      "Found 3209 images belonging to 2 classes.\n"
     ]
    }
   ],
   "source": [
    "train_data = train_datagen.flow_from_directory(directory= \"train\", target_size=(224,224), batch_size=32,class_mode = 'binary',)"
   ]
  },
  {
   "cell_type": "code",
   "execution_count": 11,
   "id": "dcdd5745",
   "metadata": {},
   "outputs": [
    {
     "data": {
      "text/plain": [
       "{'Brain Tumor': 0, 'Healthy': 1}"
      ]
     },
     "execution_count": 11,
     "metadata": {},
     "output_type": "execute_result"
    }
   ],
   "source": [
    "train_data.class_indices"
   ]
  },
  {
   "cell_type": "code",
   "execution_count": 12,
   "id": "781de820",
   "metadata": {},
   "outputs": [
    {
     "name": "stdout",
     "output_type": "stream",
     "text": [
      "Found 679 images belonging to 2 classes.\n"
     ]
    }
   ],
   "source": [
    "val_data = val_datagen.flow_from_directory(directory= \"val\", target_size=(224,224), batch_size=32,class_mode = 'binary')"
   ]
  },
  {
   "cell_type": "code",
   "execution_count": 13,
   "id": "dc3a937d",
   "metadata": {},
   "outputs": [
    {
     "name": "stdout",
     "output_type": "stream",
     "text": [
      "Found 679 images belonging to 2 classes.\n"
     ]
    }
   ],
   "source": [
    "test_data = test_datagen.flow_from_directory(directory= \"test\", target_size=(224,224), batch_size=32,class_mode = 'binary')"
   ]
  },
  {
   "cell_type": "code",
   "execution_count": 14,
   "id": "4b8c0160",
   "metadata": {},
   "outputs": [],
   "source": [
    "## having early stopping and model check point \n",
    "\n",
    "from keras.callbacks import ModelCheckpoint, EarlyStopping\n",
    "\n",
    "# early stopping\n",
    "es = EarlyStopping(monitor='val_accuracy', min_delta= 0.01 , patience= 5, verbose= 1, mode='auto')\n",
    "\n",
    "# model check point\n",
    "mc = ModelCheckpoint(filepath=\"best_model.h5\", monitor= 'val_accuracy', verbose= 1, save_best_only= True, mode = 'auto')\n",
    "\n",
    "# puting call back in a list \n",
    "call_back = [es, mc]"
   ]
  },
  {
   "cell_type": "code",
   "execution_count": 15,
   "id": "0af351e6",
   "metadata": {},
   "outputs": [
    {
     "name": "stdout",
     "output_type": "stream",
     "text": [
      "WARNING:tensorflow:From <ipython-input-15-a0ed5de57e2b>:1: Model.fit_generator (from tensorflow.python.keras.engine.training) is deprecated and will be removed in a future version.\n",
      "Instructions for updating:\n",
      "Please use Model.fit, which supports generators.\n",
      "Epoch 1/10\n",
      "8/8 [==============================] - ETA: 0s - loss: 0.6554 - accuracy: 0.5898\n",
      "Epoch 00001: val_accuracy improved from -inf to 0.60352, saving model to best_model.h5\n",
      "8/8 [==============================] - 32s 4s/step - loss: 0.6554 - accuracy: 0.5898 - val_loss: 0.6461 - val_accuracy: 0.6035\n",
      "Epoch 2/10\n",
      "8/8 [==============================] - ETA: 0s - loss: 0.6551 - accuracy: 0.6523\n",
      "Epoch 00002: val_accuracy improved from 0.60352 to 0.68164, saving model to best_model.h5\n",
      "8/8 [==============================] - 34s 4s/step - loss: 0.6551 - accuracy: 0.6523 - val_loss: 0.6321 - val_accuracy: 0.6816\n",
      "Epoch 3/10\n",
      "8/8 [==============================] - ETA: 0s - loss: 0.6488 - accuracy: 0.6133\n",
      "Epoch 00003: val_accuracy improved from 0.68164 to 0.69531, saving model to best_model.h5\n",
      "8/8 [==============================] - 41s 5s/step - loss: 0.6488 - accuracy: 0.6133 - val_loss: 0.5908 - val_accuracy: 0.6953\n",
      "Epoch 4/10\n",
      "8/8 [==============================] - ETA: 0s - loss: 0.6343 - accuracy: 0.6641\n",
      "Epoch 00004: val_accuracy did not improve from 0.69531\n",
      "8/8 [==============================] - 37s 5s/step - loss: 0.6343 - accuracy: 0.6641 - val_loss: 0.5610 - val_accuracy: 0.6855\n",
      "Epoch 5/10\n",
      "8/8 [==============================] - ETA: 0s - loss: 0.6316 - accuracy: 0.6797\n",
      "Epoch 00005: val_accuracy improved from 0.69531 to 0.72656, saving model to best_model.h5\n",
      "8/8 [==============================] - 37s 5s/step - loss: 0.6316 - accuracy: 0.6797 - val_loss: 0.6136 - val_accuracy: 0.7266\n",
      "Epoch 6/10\n",
      "8/8 [==============================] - ETA: 0s - loss: 0.5910 - accuracy: 0.7266\n",
      "Epoch 00006: val_accuracy did not improve from 0.72656\n",
      "8/8 [==============================] - 38s 5s/step - loss: 0.5910 - accuracy: 0.7266 - val_loss: 0.5538 - val_accuracy: 0.7051\n",
      "Epoch 7/10\n",
      "8/8 [==============================] - ETA: 0s - loss: 0.6539 - accuracy: 0.6562\n",
      "Epoch 00007: val_accuracy improved from 0.72656 to 0.76172, saving model to best_model.h5\n",
      "8/8 [==============================] - 37s 5s/step - loss: 0.6539 - accuracy: 0.6562 - val_loss: 0.5271 - val_accuracy: 0.7617\n",
      "Epoch 8/10\n",
      "8/8 [==============================] - ETA: 0s - loss: 0.5695 - accuracy: 0.7339\n",
      "Epoch 00008: val_accuracy did not improve from 0.76172\n",
      "8/8 [==============================] - 35s 4s/step - loss: 0.5695 - accuracy: 0.7339 - val_loss: 0.5279 - val_accuracy: 0.7246\n",
      "Epoch 9/10\n",
      "8/8 [==============================] - ETA: 0s - loss: 0.5555 - accuracy: 0.7109\n",
      "Epoch 00009: val_accuracy improved from 0.76172 to 0.79492, saving model to best_model.h5\n",
      "8/8 [==============================] - 38s 5s/step - loss: 0.5555 - accuracy: 0.7109 - val_loss: 0.4679 - val_accuracy: 0.7949\n",
      "Epoch 10/10\n",
      "8/8 [==============================] - ETA: 0s - loss: 0.5971 - accuracy: 0.6953\n",
      "Epoch 00010: val_accuracy did not improve from 0.79492\n",
      "8/8 [==============================] - 37s 5s/step - loss: 0.5971 - accuracy: 0.6953 - val_loss: 0.5053 - val_accuracy: 0.7656\n"
     ]
    }
   ],
   "source": [
    "hist = model.fit_generator(generator=train_data , \n",
    "                              steps_per_epoch= 8 , \n",
    "                              epochs= 10 , verbose= 1, \n",
    "                              validation_data= val_data , \n",
    "                              validation_steps= 16,\n",
    "                              callbacks = call_back )"
   ]
  },
  {
   "cell_type": "code",
   "execution_count": 38,
   "id": "d62469ae",
   "metadata": {},
   "outputs": [],
   "source": [
    "# Loading the best fit model \n",
    "from keras.models import load_model\n",
    "\n",
    "model = load_model(\"best_model.h5\")"
   ]
  },
  {
   "cell_type": "code",
   "execution_count": 39,
   "id": "b811b0ee",
   "metadata": {},
   "outputs": [
    {
     "name": "stdout",
     "output_type": "stream",
     "text": [
      "The accuracy of your model is = 80.70692420005798 %\n"
     ]
    }
   ],
   "source": [
    "\n",
    "# checking out the accuracy of our model \n",
    "\n",
    "acc = model.evaluate_generator(generator= test_data)[1] \n",
    "\n",
    "print(\"The accuracy of your model is = acc\")"
   ]
  },
  {
   "cell_type": "code",
   "execution_count": 29,
   "id": "ab4892ea",
   "metadata": {},
   "outputs": [
    {
     "data": {
      "text/plain": [
       "dict_keys(['loss', 'accuracy', 'val_loss', 'val_accuracy'])"
      ]
     },
     "execution_count": 29,
     "metadata": {},
     "output_type": "execute_result"
    }
   ],
   "source": [
    "h =  hist.history\n",
    "h.keys()"
   ]
  },
  {
   "cell_type": "code",
   "execution_count": 30,
   "id": "51008856",
   "metadata": {},
   "outputs": [
    {
     "data": {
      "image/png": "[encoded data removed]",
      "text/plain": [
       "<Figure size 432x288 with 1 Axes>"
      ]
     },
     "metadata": {
      "needs_background": "light"
     },
     "output_type": "display_data"
    }
   ],
   "source": [
    "plt.plot(h['accuracy'])\n",
    "plt.plot(h['val_accuracy'] , c = \"red\")\n",
    "plt.title(\"acc vs v-acc\")\n",
    "plt.show()"
   ]
  },
  {
   "cell_type": "code",
   "execution_count": 31,
   "id": "63aab456",
   "metadata": {},
   "outputs": [
    {
     "data": {
      "image/png": "[encoded data removed]",
      "text/plain": [
       "<Figure size 432x288 with 1 Axes>"
      ]
     },
     "metadata": {
      "needs_background": "light"
     },
     "output_type": "display_data"
    }
   ],
   "source": [
    "plt.plot(h['loss'])\n",
    "plt.plot(h['val_loss'] , c = \"red\")\n",
    "plt.title(\"loss vs v-loss\")\n",
    "plt.show()"
   ]
  },
  {
   "cell_type": "code",
   "execution_count": 36,
   "id": "86f099a3",
   "metadata": {},
   "outputs": [
    {
     "name": "stdout",
     "output_type": "stream",
     "text": [
      "The MRI image is of Healthy brain\n"
     ]
    }
   ],
   "source": [
    "# path for the image to see if it predics correct class\n",
    "\n",
    "path = \"val/Healthy/Not Cancer  (455).jpg\"\n",
    "img = image.load_img(path, target_size=(224,224),  )\n",
    "\n",
    "i = image.img_to_array(img)/255\n",
    "input_arr = np.array([i])\n",
    "input_arr.shape\n",
    "\n",
    "pred = model.predict_classes(input_arr)[0][0] \n",
    "\n",
    "\n",
    "\n",
    "if pred == 0:\n",
    "  print(\"The MRI image is of BRAIN TUMOR\")\n",
    "else:\n",
    "  print(\"The MRI image is of Healthy brain\")"
   ]
  },
  {
   "cell_type": "code",
   "execution_count": null,
   "id": "4abc94d2",
   "metadata": {},
   "outputs": [],
   "source": []
  },
  {
   "cell_type": "markdown",
   "id": "2bf9f5d1",
   "metadata": {},
   "source": [
    "# Research Question: How to correctly predict the data with increased accuracy?? \n",
    "\n",
    "Each of the models we have experimented on has shown us with how much accuracy it predicts the data. \n",
    "\n",
    "##### SVM: 56.09%\n",
    "\n",
    "##### Decision Tree: 54.89%\n",
    "\n",
    "##### K-Means: 53.91%\n",
    "\n",
    "##### K-Nearest Neighbour: 52.82%\n",
    "\n",
    "##### Random Forest: 52.5%\n",
    "\n",
    "##### Multi-Layer Perceptron: 50.22%\n",
    "\n",
    "##### Naive Bayes: 47.83%\n",
    "\n",
    "From seeing the above models we can say that none of them were actually good enough to predict a tumor. Then we experimented using CNN model which is proof and gave us the highest and the best accuracy of 80.71%. \n",
    "\n",
    "##### CNN: 80.71%"
   ]
  }
 ],
 "metadata": {
  "kernelspec": {
   "display_name": "Python 3",
   "language": "python",
   "name": "python3"
  },
  "language_info": {
   "codemirror_mode": {
    "name": "ipython",
    "version": 3
   },
   "file_extension": ".py",
   "mimetype": "text/x-python",
   "name": "python",
   "nbconvert_exporter": "python",
   "pygments_lexer": "ipython3",
   "version": "3.8.8"
  }
 },
 "nbformat": 4,
 "nbformat_minor": 5
}
